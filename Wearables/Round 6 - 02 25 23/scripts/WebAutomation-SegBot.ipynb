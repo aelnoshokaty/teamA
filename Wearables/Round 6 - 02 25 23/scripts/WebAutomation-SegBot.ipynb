{
 "cells": [
  {
   "cell_type": "code",
   "execution_count": 256,
   "id": "b3aad85f",
   "metadata": {},
   "outputs": [],
   "source": [
    "#reviewText = \"We can enter text on any field in Selenium. After entering the text, we may need to remove or clear the text we entered in that field. This interaction with the web elements can be achieved with the help of clear() method.\"\n",
    "\n",
    "warnings.filterwarnings('ignore')\n",
    "from selenium import webdriver\n",
    "driver = webdriver.Chrome(executable_path= r'C:\\\\Users\\\\Wahbeh\\\\Desktop\\\\WebAutomation\\\\chromedriver_win32\\\\chromedriver.exe')\n",
    "# For using sleep function because selenium\n",
    "# works only when the all the elements of the\n",
    "# page is loaded.\n",
    "import time\n",
    "from selenium.webdriver.common.keys import Keys\n",
    "# Creating an instance webdriver\n",
    "# browser = webdriver.Chrome()\n",
    "# browser.get('http://138.197.118.157:8000/segbot/')\n",
    "# Let's the user see and also load the element\n",
    "#time.sleep(2)\n",
    "from selenium.webdriver.common.by import By\n",
    "\n",
    "def segText(reviewStr):\n",
    "    browser = webdriver.Chrome()\n",
    "    browser.get('http://138.197.118.157:8000/segbot/')\n",
    "    #first_name = browser.find_element(By.ID, \"input-firstname\")\n",
    "    textValue = browser.find_element(By.ID, \"textfield1\")\n",
    "    #first_name.send_keys(\"FirstName\")\n",
    "    textValue.send_keys(reviewStr)\n",
    "    #continue_button = browser.find_element(By.XPATH, value=\"//input[@value='Continue']\")\n",
    "    submit_btn = browser.find_element(By.XPATH, \"/html/body/div/div/div/article/form/div/div[2]/button[1]\")\n",
    "    #continue_button.click()\n",
    "    submit_btn.click()\n",
    "    results = browser.find_element(By.ID, \"textfield2\")\n",
    "    browser.find_element(By.ID, \"textfield1\").clear()\n",
    "    segments = results.text.split(\"\\n\")\n",
    "    return segments\n",
    "\n",
    "#segText(reviewText)"
   ]
  },
  {
   "cell_type": "code",
   "execution_count": 257,
   "id": "48ff0006",
   "metadata": {},
   "outputs": [
    {
     "name": "stderr",
     "output_type": "stream",
     "text": [
      "[nltk_data] Downloading package stopwords to\n",
      "[nltk_data]     C:\\Users\\Wahbeh\\AppData\\Roaming\\nltk_data...\n",
      "[nltk_data]   Package stopwords is already up-to-date!\n",
      "[nltk_data] Downloading package wordnet to\n",
      "[nltk_data]     C:\\Users\\Wahbeh\\AppData\\Roaming\\nltk_data...\n",
      "[nltk_data]   Package wordnet is already up-to-date!\n",
      "No model was supplied, defaulted to distilbert-base-uncased-finetuned-sst-2-english (https://huggingface.co/distilbert-base-uncased-finetuned-sst-2-english)\n"
     ]
    }
   ],
   "source": [
    "import warnings\n",
    "warnings.filterwarnings('ignore')\n",
    "import pandas as pd\n",
    "import numpy as np\n",
    "import matplotlib.pyplot as plt \n",
    "import gensim\n",
    "import gensim.corpora as corpora\n",
    "from gensim.models.coherencemodel import CoherenceModel\n",
    "from sklearn.feature_extraction.text import TfidfVectorizer\n",
    "import nltk\n",
    "#nltk.download()\n",
    "from nltk.corpus import stopwords\n",
    "from nltk.tokenize import word_tokenize\n",
    "nltk.download('stopwords')\n",
    "from nltk.stem.wordnet import WordNetLemmatizer\n",
    "lemmatizer = WordNetLemmatizer()\n",
    "nltk.download('wordnet')\n",
    "dictionary_words = set(nltk.corpus.words.words())\n",
    "from pprint import pprint\n",
    "from textblob import TextBlob, Word\n",
    "import spacy\n",
    "import spacy_legacy\n",
    "#loading the english language small model of spacy\n",
    "en = spacy.load('en_core_web_sm')\n",
    "sw_spacy = en.Defaults.stop_words\n",
    "from transformers import pipeline\n",
    "sentiment_pipeline = pipeline(\"sentiment-analysis\")\n",
    "import pickle\n",
    "import re \n",
    "import pyLDAvis\n",
    "import pyLDAvis.gensim_models\n",
    "import itertools "
   ]
  },
  {
   "cell_type": "code",
   "execution_count": 258,
   "id": "73ed1d89",
   "metadata": {},
   "outputs": [
    {
     "data": {
      "text/html": [
       "<div>\n",
       "<style scoped>\n",
       "    .dataframe tbody tr th:only-of-type {\n",
       "        vertical-align: middle;\n",
       "    }\n",
       "\n",
       "    .dataframe tbody tr th {\n",
       "        vertical-align: top;\n",
       "    }\n",
       "\n",
       "    .dataframe thead th {\n",
       "        text-align: right;\n",
       "    }\n",
       "</style>\n",
       "<table border=\"1\" class=\"dataframe\">\n",
       "  <thead>\n",
       "    <tr style=\"text-align: right;\">\n",
       "      <th></th>\n",
       "      <th>ReviewID</th>\n",
       "      <th>Page Type</th>\n",
       "      <th>Full Text</th>\n",
       "      <th>Rating</th>\n",
       "    </tr>\n",
       "  </thead>\n",
       "  <tbody>\n",
       "    <tr>\n",
       "      <th>0</th>\n",
       "      <td>9093</td>\n",
       "      <td>review</td>\n",
       "      <td>This Apple Watch was a gift for my wife! She l...</td>\n",
       "      <td>5</td>\n",
       "    </tr>\n",
       "    <tr>\n",
       "      <th>1</th>\n",
       "      <td>9092</td>\n",
       "      <td>review</td>\n",
       "      <td>Excellent price and works perfectly to tone do...</td>\n",
       "      <td>5</td>\n",
       "    </tr>\n",
       "    <tr>\n",
       "      <th>2</th>\n",
       "      <td>9090</td>\n",
       "      <td>review</td>\n",
       "      <td>It’s an Apple Watch, not much else to say. Gre...</td>\n",
       "      <td>5</td>\n",
       "    </tr>\n",
       "    <tr>\n",
       "      <th>3</th>\n",
       "      <td>9089</td>\n",
       "      <td>review</td>\n",
       "      <td>I never thought I would be an Apple Watch guy....</td>\n",
       "      <td>5</td>\n",
       "    </tr>\n",
       "    <tr>\n",
       "      <th>4</th>\n",
       "      <td>9088</td>\n",
       "      <td>review</td>\n",
       "      <td>First Apple Watch and I’m enjoying all of the ...</td>\n",
       "      <td>5</td>\n",
       "    </tr>\n",
       "  </tbody>\n",
       "</table>\n",
       "</div>"
      ],
      "text/plain": [
       "   ReviewID Page Type                                          Full Text  \\\n",
       "0      9093    review  This Apple Watch was a gift for my wife! She l...   \n",
       "1      9092    review  Excellent price and works perfectly to tone do...   \n",
       "2      9090    review  It’s an Apple Watch, not much else to say. Gre...   \n",
       "3      9089    review  I never thought I would be an Apple Watch guy....   \n",
       "4      9088    review  First Apple Watch and I’m enjoying all of the ...   \n",
       "\n",
       "   Rating  \n",
       "0       5  \n",
       "1       5  \n",
       "2       5  \n",
       "3       5  \n",
       "4       5  "
      ]
     },
     "execution_count": 258,
     "metadata": {},
     "output_type": "execute_result"
    }
   ],
   "source": [
    "df = pd.read_csv ('sample.csv')\n",
    "df.head()"
   ]
  },
  {
   "cell_type": "code",
   "execution_count": 259,
   "id": "29547c2f",
   "metadata": {},
   "outputs": [
    {
     "data": {
      "text/plain": [
       "(99, 4)"
      ]
     },
     "execution_count": 259,
     "metadata": {},
     "output_type": "execute_result"
    }
   ],
   "source": [
    "df.shapepe"
   ]
  },
  {
   "cell_type": "markdown",
   "id": "b2304f1a",
   "metadata": {},
   "source": [
    "# Preprocess reviews"
   ]
  },
  {
   "cell_type": "code",
   "execution_count": 260,
   "id": "67b46dfc",
   "metadata": {},
   "outputs": [],
   "source": [
    "def lemmatizeStr(sentence):\n",
    "    # Tokenize: Split the sentence into words\n",
    "    word_list = nltk.word_tokenize(sentence)\n",
    "    # Lemmatize list of words and join\n",
    "    lemmatized_output = ' '.join([lemmatizer.lemmatize(w) for w in word_list])\n",
    "    return lemmatized_output"
   ]
  },
  {
   "cell_type": "code",
   "execution_count": 261,
   "id": "56713300",
   "metadata": {},
   "outputs": [],
   "source": [
    "def clean_text(docs):\n",
    "    for i in range(len(docs)):\n",
    "        #remove hashtags and mentions\n",
    "        docs[i] = \" \".join(filter(lambda x:x[0]!='#', docs[i].split())) #remove hashtags\n",
    "        docs[i] = \" \".join(filter(lambda x:x[0]!='@', docs[i].split())) #remove mentiones\n",
    "        \n",
    "        #Lemmatize text\n",
    "        docs[i] = lemmatizeStr(docs[i])\n",
    "       \n",
    "    \n",
    "    \n",
    "        #Remove brands related keywords    \n",
    "        brands5kw = [\"Samsung Galaxy Watch 4 Classic\" , \"Samsung Galaxy Watch 5 Pro\" , \"Samsung Galaxy Watch Active 2\"]\n",
    "\n",
    "        resultwords  = [word for word in docs[i].split() if word.lower() not in brands5kw]\n",
    "        docs[i] = ' '.join(resultwords)\n",
    "        \n",
    "        \n",
    "        brands4kw = [\"Apple watch series 1\" , \"Apple watch series 2\" , \"Apple watch series 3\" , \"Apple watch series 4\",\n",
    "                     \"Apple watch series 5\" , \"Apple watch series 6\" , \"Apple watch series 7\" , \"Apple watch series 8\" , \n",
    "                     \"fossil hybrid smartwatch\"]\n",
    "\n",
    "        resultwords  = [word for word in docs[i].split() if word.lower() not in brands4kw]\n",
    "        docs[i] = ' '.join(resultwords)\n",
    "\n",
    "        brands3kw = [\"Forerunner 245 Music\" , \"Forerunner 255 Music\" , \"Forerunner 645 Music\" , \n",
    "                     \"Forerunner 945 LTE\" , \"Forerunner 955 Solar\" , \"Apple watch SE\" , \"Apple watch Ultra\" , \n",
    "                     \"Fitbit Alta HR\" , \"Fitbit Aria Air\" , \"Fitbit Charge 2\" , \"Fitbit Charge 3\" , \"Fitbit Charge 4\" , \n",
    "                     \"Fitbit Charge 5\" , \"Fitbit Charge HR\" , \"Fitbit Flex 2\" , \"Fitbit Inspire 2\" , \n",
    "                     \"Fitbit Inspire 3\" , \"Fitbit Inspire HR\" , \"Fitbit Sense 2\" , \"Fitbit Versa 2\" , \n",
    "                     \"Fitbit Versa 3\" , \"Fitbit Versa 4\" , \"fitbit versa lite\" , \"fossil sport smartwatch\" , \n",
    "                     \"Galaxy Watch 2\" , \"Galaxy Watch 3\" , \"Galaxy Watch 4\" , \"Galaxy Watch 5\" , \n",
    "                     \"Galaxy Watch Active\" , \"garmin captain marvel\" , \"garmin darth vader\" , \"garmin Forerunner 10\" , \n",
    "                     \"garmin Forerunner 101\" , \"garmin Forerunner 110\" , \"garmin Forerunner 15\" , \n",
    "                     \"garmin Forerunner 201\" , \"garmin Forerunner 205\" , \"garmin Forerunner 210\" , \n",
    "                     \"garmin Forerunner 220\" , \"garmin Forerunner 225\" , \"garmin Forerunner 230\" , \n",
    "                     \"garmin Forerunner 235\" , \"garmin Forerunner 245\" , \"garmin Forerunner 25\" , \n",
    "                     \"garmin Forerunner 255\" , \"garmin Forerunner 30\" , \"garmin Forerunner 301\" , \n",
    "                     \"garmin Forerunner 305\" , \"garmin Forerunner 310XT\" , \"garmin Forerunner 35\" , \n",
    "                     \"garmin Forerunner 405\" , \"garmin Forerunner 405CX\" , \"garmin Forerunner 410\" , \n",
    "                     \"garmin Forerunner 45\" , \"garmin Forerunner 45S\" , \"garmin Forerunner 50\" , \n",
    "                     \"garmin Forerunner 55\" , \"garmin Forerunner 60\" , \"garmin Forerunner 610\" , \n",
    "                     \"garmin Forerunner 620\" , \"garmin Forerunner 630\" , \"garmin Forerunner 645\" , \n",
    "                     \"garmin Forerunner 735XT\" , \"garmin Forerunner 745\" , \"garmin Forerunner 910XT\" , \n",
    "                     \"garmin Forerunner 920XT\" , \"garmin Forerunner 935\" , \"garmin Forerunner 945\" , \n",
    "                     \"garmin Forerunner 955\" , \"letsfit fitness racker\" , \"polar grit x\" , \"samsung galaxy fit\" , \n",
    "                     \"Samsung Galaxy Gear\" , \"Samsung Galaxy Watch \" , \"Samsung Gear 2\" , \"Samsung Gear Live\" , \n",
    "                     \"Samsung Gear S\" , \"Samsung Gear S2\" , \"Samsung Gear S3\" , \"Samsung Gear Sport\" , \n",
    "                     \"Samsung Watch 2\" , \"Samsung Watch 3\" , \"Samsung Watch 4\" , \"Samsung Watch 5\" , \n",
    "                     \"Samsung Watch Active\" , \"striiv apex hr\" , \"striiv dash hr\" , \"withings move ecg\" , \n",
    "                     \"xiaomi mi band\"]\n",
    "\n",
    "        resultwords  = [word for word in docs[i].split() if word.lower() not in brands3kw]\n",
    "        docs[i] = ' '.join(resultwords)\n",
    "        \n",
    "        brands2kw = [\"Forerunner 10\" , \"Forerunner 101\" , \"Forerunner 110\" , \"Forerunner 15\" , \"Forerunner 201\" , \n",
    "                     \"Forerunner 205\" , \"Forerunner 210\" , \"Forerunner 220\" , \"Forerunner 225\" , \n",
    "                     \"Forerunner 230\" , \"Forerunner 235\" , \"Forerunner 245\" , \"Forerunner 25\" , \n",
    "                     \"Forerunner 255\" , \"Forerunner 30\" , \"Forerunner 301\" , \"Forerunner 305\" , \n",
    "                     \"Forerunner 310XT\" , \"Forerunner 35\" , \"Forerunner 405\" , \"Forerunner 405CX\" , \n",
    "                     \"Forerunner 410\" , \"Forerunner 45\" , \"Forerunner 45S\" , \"Forerunner 50\" , \n",
    "                     \"Forerunner 55\" , \"Forerunner 60\" , \"Forerunner 610\" , \"Forerunner 620\" , \n",
    "                     \"Forerunner 630\" , \"Forerunner 645\" , \"Forerunner 735XT\" , \"Forerunner 745\" , \n",
    "                     \"Forerunner 910XT\" , \"Forerunner 920XT\" , \" Forerunner 935\" , \"Forerunner 945\" , \n",
    "                     \"Forerunner 955\" , \"Inspire 2\" , \"Sense 2\" , \"amazon halo\" , \"Aria Air\" , \"Charge 2\" , \n",
    "                     \"Charge 3\" , \"Charge 4\" , \"Charge 5\" , \"coros apex\" , \"coros pace\" , \"Fitbit Ace\" , \n",
    "                     \"Fitbit Alta\" , \"Fitbit Aria\" , \"Fitbit Blaze\" , \"Fitbit Charge\" , \"Fitbit Flex\" , \n",
    "                     \"Fitbit Flyer\" , \"Fitbit Force\" , \"Fitbit Ionic\" , \"fitbit ionic\" , \"Fitbit Luxe\" , \n",
    "                     \"Fitbit One\" , \"Fitbit Sense\" , \"Fitbit Surge\" , \"Fitbit Ultra\" , \"fitbit verca\" , \n",
    "                     \"Fitbit Versa\" , \"Fitbit Zip\" , \"Flex 2\" , \"fossil gen\" , \"Galaxy Watch\" , \"garmin approach\" , \n",
    "                     \"garmin fēnix\" , \"garmin instinct\" , \"garmin lily\" , \"garmin luxe\" , \"garmin swim\" , \n",
    "                     \"garmin venu\" , \"garmin vívoactive\" , \"garmin vívofit\" , \"garmin vívoki\" , \"garmin vívomove\" , \n",
    "                     \"garmin vívosmart\" , \"garmin vívosport\" , \"Gear 2\" , \"Gear Live\" , \"Gear S\" , \"Gear S2\" , \n",
    "                     \"Gear S3\" , \"Gear Sport\" , \"huawei band\" , \"huawei talkband\" , \"huawei watch\" , \n",
    "                     \"ihealth watch\" , \"Inspire 3\" , \"misfit command\" , \"misfit path\" , \"misfit ray\" , \n",
    "                     \"misfit vap\" , \"moov hr\" , \"moov now\" , \"mykronoz zefit\" , \"mykronoz zefit\" , \"mykronoz zeneo\" , \n",
    "                     \"mykronoz zeround\" , \"mykronoz zesport\" , \"mykronoz zetime\" , \"mykronoz zetrack\" , \n",
    "                     \"mykronoz zewatch\" , \"polar a360\" , \"polar a370\" , \"polar h10\" , \"polar h9\" , \"polar ignite\" , \n",
    "                     \"polar m200\" , \"polar m430\" , \"polar oh1\" , \"polar titan\" , \"polar vantage\" , \"Samsung Gear\" , \n",
    "                     \"Samsung Watch \" , \"striiv fusion\" , \"suunto peak\" , \"timex ironman\" , \"Versa 2\" , \"Versa 3\" , \n",
    "                     \"Versa 4\" , \"wahoo fitness\" , \"withings move\" , \"withings pulds\" , \"withings scanwatch\" , \n",
    "                     \"withings steel\" , \"wyze band\"]\n",
    "\n",
    "        resultwords  = [word for word in docs[i].split() if word.lower() not in brands2kw]\n",
    "        docs[i] = ' '.join(resultwords)        \n",
    "\n",
    "        brands1kw = [\"Forerunner\" , \"Forerunner\" , \"fossil\" , \"Nüvi \" , \"Quest\"]\n",
    "\n",
    "        resultwords  = [word for word in docs[i].split() if word.lower() not in brands1kw]\n",
    "        docs[i] = ' '.join(resultwords)\n",
    "        \n",
    "        #Remove feature-related words\n",
    "        features = [\"ability\", \"quality\", \"feature\", \"aspect\", \"abilities\", \"qualities\", \"features\", \"aspects\"]\n",
    "        resultwords  = [word for word in docs[i].split() if word.lower() not in features]\n",
    "        docs[i] = ' '.join(resultwords)\n",
    "\n",
    "    return docs"
   ]
  },
  {
   "cell_type": "code",
   "execution_count": 262,
   "id": "0025fc29",
   "metadata": {},
   "outputs": [],
   "source": [
    "reviews = np.array(df['Full Text'])\n",
    "processed_reviews = clean_text(reviews)"
   ]
  },
  {
   "cell_type": "code",
   "execution_count": 263,
   "id": "e79fd43c",
   "metadata": {},
   "outputs": [],
   "source": [
    "#processed_reviews"
   ]
  },
  {
   "cell_type": "code",
   "execution_count": 264,
   "id": "9b514a73",
   "metadata": {},
   "outputs": [
    {
     "data": {
      "text/plain": [
       "99"
      ]
     },
     "execution_count": 264,
     "metadata": {},
     "output_type": "execute_result"
    }
   ],
   "source": [
    "len(processed_reviews)"
   ]
  },
  {
   "cell_type": "markdown",
   "id": "b7dfc2a4",
   "metadata": {},
   "source": [
    "# Define a function to split each review using SegBot\n"
   ]
  },
  {
   "cell_type": "code",
   "execution_count": 266,
   "id": "bd2468d8",
   "metadata": {},
   "outputs": [],
   "source": [
    "df[\"SegmentedReview\"] = \"\""
   ]
  },
  {
   "cell_type": "code",
   "execution_count": 267,
   "id": "a323db04",
   "metadata": {},
   "outputs": [
    {
     "name": "stdout",
     "output_type": "stream",
     "text": [
      "0\n",
      "0\n",
      "1\n",
      "1\n",
      "2\n",
      "3\n",
      "4\n",
      "5\n",
      "6\n",
      "7\n",
      "8\n",
      "9\n",
      "9\n",
      "10\n",
      "11\n",
      "11\n",
      "12\n",
      "13\n",
      "14\n",
      "15\n",
      "16\n",
      "17\n",
      "18\n",
      "19\n",
      "19\n",
      "20\n",
      "21\n",
      "22\n",
      "23\n",
      "24\n",
      "24\n",
      "25\n",
      "26\n",
      "26\n",
      "27\n",
      "28\n",
      "29\n",
      "30\n",
      "31\n",
      "32\n",
      "32\n",
      "33\n",
      "34\n",
      "35\n",
      "36\n",
      "37\n",
      "38\n",
      "39\n",
      "40\n",
      "41\n",
      "41\n",
      "42\n",
      "43\n",
      "44\n",
      "45\n",
      "46\n",
      "47\n",
      "47\n",
      "48\n",
      "49\n",
      "50\n",
      "51\n",
      "52\n",
      "53\n",
      "54\n",
      "55\n",
      "56\n",
      "57\n",
      "58\n",
      "59\n",
      "60\n",
      "61\n",
      "62\n",
      "63\n",
      "64\n",
      "65\n",
      "66\n",
      "67\n",
      "68\n",
      "69\n",
      "70\n",
      "71\n",
      "72\n",
      "73\n",
      "74\n",
      "75\n",
      "76\n",
      "77\n",
      "78\n",
      "79\n",
      "80\n",
      "81\n",
      "82\n",
      "83\n",
      "83\n",
      "84\n",
      "85\n",
      "86\n",
      "87\n",
      "88\n",
      "89\n",
      "90\n",
      "91\n",
      "92\n",
      "93\n",
      "94\n",
      "95\n",
      "96\n",
      "97\n",
      "98\n"
     ]
    }
   ],
   "source": [
    "for i in range(len(processed_reviews)):\n",
    "    try:\n",
    "        print(i)\n",
    "        df.at[i, \"SegmentedReview\"] =  segText(processed_reviews[i])   \n",
    "    except Exception:\n",
    "        print(i)\n",
    "        pass"
   ]
  },
  {
   "cell_type": "code",
   "execution_count": 268,
   "id": "3a9225a1",
   "metadata": {},
   "outputs": [
    {
     "data": {
      "text/plain": [
       "(99, 5)"
      ]
     },
     "execution_count": 268,
     "metadata": {},
     "output_type": "execute_result"
    }
   ],
   "source": [
    "df.shape"
   ]
  },
  {
   "cell_type": "code",
   "execution_count": 269,
   "id": "0b726815",
   "metadata": {},
   "outputs": [],
   "source": [
    "df.to_csv('processed.csv')"
   ]
  },
  {
   "cell_type": "code",
   "execution_count": null,
   "id": "4ce85234",
   "metadata": {},
   "outputs": [],
   "source": []
  }
 ],
 "metadata": {
  "kernelspec": {
   "display_name": "Python 3 (ipykernel)",
   "language": "python",
   "name": "python3"
  },
  "language_info": {
   "codemirror_mode": {
    "name": "ipython",
    "version": 3
   },
   "file_extension": ".py",
   "mimetype": "text/x-python",
   "name": "python",
   "nbconvert_exporter": "python",
   "pygments_lexer": "ipython3",
   "version": "3.8.8"
  }
 },
 "nbformat": 4,
 "nbformat_minor": 5
}
